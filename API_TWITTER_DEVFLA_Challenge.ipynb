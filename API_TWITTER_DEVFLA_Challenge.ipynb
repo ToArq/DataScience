{
  "nbformat": 4,
  "nbformat_minor": 0,
  "metadata": {
    "colab": {
      "name": "API TWITTER DEVFLA Challenge.ipynb",
      "provenance": [],
      "collapsed_sections": [],
      "include_colab_link": true
    },
    "kernelspec": {
      "name": "python3",
      "display_name": "Python 3"
    },
    "language_info": {
      "name": "python"
    }
  },
  "cells": [
    {
      "cell_type": "markdown",
      "metadata": {
        "id": "view-in-github",
        "colab_type": "text"
      },
      "source": [
        "<a href=\"https://colab.research.google.com/github/ToArq/DataScience/blob/main/API_TWITTER_DEVFLA_Challenge.ipynb\" target=\"_parent\"><img src=\"https://colab.research.google.com/assets/colab-badge.svg\" alt=\"Open In Colab\"/></a>"
      ]
    },
    {
      "cell_type": "markdown",
      "source": [
        "# ¿Qué Recuerdas de la API de Twitter? 😏"
      ],
      "metadata": {
        "id": "7AbAFYczNcQX"
      }
    },
    {
      "cell_type": "markdown",
      "source": [
        "¡Pongamos a prueba nuestras habilidades para consumir esta API en 4 de sus Endpoints!"
      ],
      "metadata": {
        "id": "JlSvMwj_ZCIe"
      }
    },
    {
      "cell_type": "code",
      "metadata": {
        "id": "DACxp511pHFK",
        "colab": {
          "base_uri": "https://localhost:8080/"
        },
        "outputId": "f38236ba-b3a0-48f7-c96c-9df122431906"
      },
      "source": [
        "!pip install tweepy"
      ],
      "execution_count": null,
      "outputs": [
        {
          "output_type": "stream",
          "name": "stdout",
          "text": [
            "Requirement already satisfied: tweepy in /usr/local/lib/python3.7/dist-packages (3.10.0)\n",
            "Requirement already satisfied: requests[socks]>=2.11.1 in /usr/local/lib/python3.7/dist-packages (from tweepy) (2.23.0)\n",
            "Requirement already satisfied: requests-oauthlib>=0.7.0 in /usr/local/lib/python3.7/dist-packages (from tweepy) (1.3.0)\n",
            "Requirement already satisfied: six>=1.10.0 in /usr/local/lib/python3.7/dist-packages (from tweepy) (1.15.0)\n",
            "Requirement already satisfied: oauthlib>=3.0.0 in /usr/local/lib/python3.7/dist-packages (from requests-oauthlib>=0.7.0->tweepy) (3.1.1)\n",
            "Requirement already satisfied: urllib3!=1.25.0,!=1.25.1,<1.26,>=1.21.1 in /usr/local/lib/python3.7/dist-packages (from requests[socks]>=2.11.1->tweepy) (1.24.3)\n",
            "Requirement already satisfied: idna<3,>=2.5 in /usr/local/lib/python3.7/dist-packages (from requests[socks]>=2.11.1->tweepy) (2.10)\n",
            "Requirement already satisfied: certifi>=2017.4.17 in /usr/local/lib/python3.7/dist-packages (from requests[socks]>=2.11.1->tweepy) (2021.10.8)\n",
            "Requirement already satisfied: chardet<4,>=3.0.2 in /usr/local/lib/python3.7/dist-packages (from requests[socks]>=2.11.1->tweepy) (3.0.4)\n",
            "Requirement already satisfied: PySocks!=1.5.7,>=1.5.6 in /usr/local/lib/python3.7/dist-packages (from requests[socks]>=2.11.1->tweepy) (1.7.1)\n"
          ]
        }
      ]
    },
    {
      "cell_type": "code",
      "metadata": {
        "id": "4fe5WCePpHFL"
      },
      "source": [
        "import pandas as pd\n",
        "import matplotlib.pyplot as plt\n",
        "import itertools\n",
        "import collections\n",
        "\n",
        "import tweepy as tw\n",
        "import nltk\n",
        "from nltk.corpus import stopwords\n",
        "import re"
      ],
      "execution_count": null,
      "outputs": []
    },
    {
      "cell_type": "code",
      "source": [
        "# Si quieres obtener tus propios accesos, puedes hacerlo aquí: https://developer.twitter.com/\n",
        "\"\"\"\n",
        "ACCESS_TOKEN = '1176539786728869889-1sG3OnUUqHC4eMiPoDqsfSaLtzbJvc'\n",
        "%store ACCESS_TOKEN\n",
        "ACCESS_TOKEN_SECRET = 'S3NVuiG4GNwsz1mepNNCyQKl6zp6HGTCqoNDmUNDeS7O7'\n",
        "%store ACCESS_TOKEN_SECRET\n",
        "API_KEY = 'JPk4hxnovLIbDcLotgSsrDkqo'\n",
        "%store API_KEY\n",
        "API_SECRET = 'MC6pC9xO4xyXZb7ThZALYBDH9oXykMYFpsraCUa5g4Jsa9LBVK'\n",
        "%store API_SECRET\n",
        "\n",
        "#dav_and_to-test\n",
        "#API_KEY = 'SGFZTl0JXlTcHZBSMQvCuk3ud'\n",
        "#API_SECRET = 'IlRjxECBiahfXHMqF8hIl3dQpZC0gfGz7qobWyUi8QuustDrr2'\n",
        "BEARER_TOKEN = 'AAAAAAAAAAAAAAAAAAAAALemWwEAAAAAXdna47azebQ3%2BEC0goaqtH1q4yA%3D7gWR06DdwBpLlM58JzbnW2kg4TPSqFNUOlaLe69UjpSbD6cwWS'\n",
        "\"\"\""
      ],
      "metadata": {
        "id": "_shNhINnqbB1",
        "colab": {
          "base_uri": "https://localhost:8080/"
        },
        "outputId": "cf1ca119-d453-4ed4-ce1f-cecf38ef3fdc"
      },
      "execution_count": null,
      "outputs": [
        {
          "output_type": "stream",
          "name": "stdout",
          "text": [
            "Stored 'ACCESS_TOKEN' (str)\n",
            "Stored 'ACCESS_TOKEN_SECRET' (str)\n",
            "Stored 'API_KEY' (str)\n",
            "Stored 'API_SECRET' (str)\n"
          ]
        }
      ]
    },
    {
      "cell_type": "code",
      "source": [
        "ACCESS_TOKEN = '168255741-3Djz0KcUiv61bazL1oWukLlWfoZLxi8MvBgGz2iC'\n",
        "%store ACCESS_TOKEN\n",
        "ACCESS_TOKEN_SECRET = 'xLGldW9k8i8iJpjSKqIpp4wNpqFDeGLGnOEPDnwGjtIAo'\n",
        "%store ACCESS_TOKEN_SECRET\n",
        "API_KEY = 'SGFZTl0JXlTcHZBSMQvCuk3ud'\n",
        "%store API_KEY\n",
        "API_SECRET = 'IlRjxECBiahfXHMqF8hIl3dQpZC0gfGz7qobWyUi8QuustDrr2'\n",
        "%store API_SECRET"
      ],
      "metadata": {
        "colab": {
          "base_uri": "https://localhost:8080/"
        },
        "id": "29AzaFZ346Mo",
        "outputId": "1dad98fc-37cf-457e-80e5-0cfda68c986e"
      },
      "execution_count": null,
      "outputs": [
        {
          "output_type": "stream",
          "name": "stdout",
          "text": [
            "Stored 'ACCESS_TOKEN' (str)\n",
            "Stored 'ACCESS_TOKEN_SECRET' (str)\n",
            "Stored 'API_KEY' (str)\n",
            "Stored 'API_SECRET' (str)\n"
          ]
        }
      ]
    },
    {
      "cell_type": "code",
      "metadata": {
        "id": "IjEfS9Qwv6rk",
        "colab": {
          "base_uri": "https://localhost:8080/"
        },
        "outputId": "1c0f943e-0797-4b7b-fb41-467bb7c0f2be"
      },
      "source": [
        "#Cómo leer la documentación de autorización twitter\n",
        "\n",
        "auth = tw.OAuthHandler(API_KEY, API_SECRET)\n",
        "auth.set_access_token(ACCESS_TOKEN, ACCESS_TOKEN_SECRET)\n",
        "api = tw.API(auth)\n",
        "api"
      ],
      "execution_count": null,
      "outputs": [
        {
          "output_type": "execute_result",
          "data": {
            "text/plain": [
              "<tweepy.api.API at 0x7f838bde0950>"
            ]
          },
          "metadata": {},
          "execution_count": 56
        }
      ]
    },
    {
      "cell_type": "code",
      "source": [
        "%store -r ACCESS_TOKEN\n",
        "%store -r ACCESS_TOKEN_SECRET\n",
        "%store -r API_KEY\n",
        "%store -r API_SECRET"
      ],
      "metadata": {
        "id": "6KcjhXret0Se"
      },
      "execution_count": null,
      "outputs": []
    },
    {
      "cell_type": "markdown",
      "source": [
        "## Tweets de un timeline\n",
        "\n",
        "- Obtén la timeline de un usuario especifico de Twitter, mostrando solo los primeros 10 tweets\n",
        "- Añade los tweets a una lista y conviértelos en un DataFrame"
      ],
      "metadata": {
        "id": "ZKCcXei5ZnJP"
      }
    },
    {
      "cell_type": "code",
      "source": [
        "mit_mentions = api.user_timeline(screen_name=\"@MIT\", count=20)\n",
        "mit_on_twitter = []\n",
        "\n",
        "for t in mit_mentions:\n",
        "  mit_on_twitter.append(t._json)\n",
        "df_mit_mentions = pd.DataFrame(mit_on_twitter)\n",
        "\n",
        "df_mit_mentions.head(1)\n"
      ],
      "metadata": {
        "id": "wduiRNqp5sPk",
        "colab": {
          "base_uri": "https://localhost:8080/",
          "height": 170
        },
        "outputId": "d8b0dbba-db6b-428f-b0e2-415ca63c8bc4"
      },
      "execution_count": null,
      "outputs": [
        {
          "output_type": "execute_result",
          "data": {
            "text/html": [
              "<div>\n",
              "<style scoped>\n",
              "    .dataframe tbody tr th:only-of-type {\n",
              "        vertical-align: middle;\n",
              "    }\n",
              "\n",
              "    .dataframe tbody tr th {\n",
              "        vertical-align: top;\n",
              "    }\n",
              "\n",
              "    .dataframe thead th {\n",
              "        text-align: right;\n",
              "    }\n",
              "</style>\n",
              "<table border=\"1\" class=\"dataframe\">\n",
              "  <thead>\n",
              "    <tr style=\"text-align: right;\">\n",
              "      <th></th>\n",
              "      <th>created_at</th>\n",
              "      <th>id</th>\n",
              "      <th>id_str</th>\n",
              "      <th>text</th>\n",
              "      <th>truncated</th>\n",
              "      <th>entities</th>\n",
              "      <th>source</th>\n",
              "      <th>in_reply_to_status_id</th>\n",
              "      <th>in_reply_to_status_id_str</th>\n",
              "      <th>in_reply_to_user_id</th>\n",
              "      <th>in_reply_to_user_id_str</th>\n",
              "      <th>in_reply_to_screen_name</th>\n",
              "      <th>user</th>\n",
              "      <th>geo</th>\n",
              "      <th>coordinates</th>\n",
              "      <th>place</th>\n",
              "      <th>contributors</th>\n",
              "      <th>is_quote_status</th>\n",
              "      <th>quoted_status_id</th>\n",
              "      <th>quoted_status_id_str</th>\n",
              "      <th>quoted_status</th>\n",
              "      <th>retweet_count</th>\n",
              "      <th>favorite_count</th>\n",
              "      <th>favorited</th>\n",
              "      <th>retweeted</th>\n",
              "      <th>possibly_sensitive</th>\n",
              "      <th>lang</th>\n",
              "      <th>retweeted_status</th>\n",
              "      <th>extended_entities</th>\n",
              "    </tr>\n",
              "  </thead>\n",
              "  <tbody>\n",
              "    <tr>\n",
              "      <th>0</th>\n",
              "      <td>Sun Dec 12 16:05:00 +0000 2021</td>\n",
              "      <td>1470062135929675793</td>\n",
              "      <td>1470062135929675793</td>\n",
              "      <td>Our top 21 Tweets of 2021: No. 20 —\\nhttps://t...</td>\n",
              "      <td>False</td>\n",
              "      <td>{'hashtags': [], 'symbols': [], 'user_mentions...</td>\n",
              "      <td>&lt;a href=\"https://about.twitter.com/products/tw...</td>\n",
              "      <td>None</td>\n",
              "      <td>None</td>\n",
              "      <td>None</td>\n",
              "      <td>None</td>\n",
              "      <td>None</td>\n",
              "      <td>{'id': 15460048, 'id_str': '15460048', 'name':...</td>\n",
              "      <td>None</td>\n",
              "      <td>None</td>\n",
              "      <td>None</td>\n",
              "      <td>None</td>\n",
              "      <td>True</td>\n",
              "      <td>1.447508e+18</td>\n",
              "      <td>1447507606118010880</td>\n",
              "      <td>{'created_at': 'Mon Oct 11 10:21:21 +0000 2021...</td>\n",
              "      <td>14</td>\n",
              "      <td>94</td>\n",
              "      <td>False</td>\n",
              "      <td>False</td>\n",
              "      <td>False</td>\n",
              "      <td>en</td>\n",
              "      <td>NaN</td>\n",
              "      <td>NaN</td>\n",
              "    </tr>\n",
              "  </tbody>\n",
              "</table>\n",
              "</div>"
            ],
            "text/plain": [
              "                       created_at  ...  extended_entities\n",
              "0  Sun Dec 12 16:05:00 +0000 2021  ...                NaN\n",
              "\n",
              "[1 rows x 29 columns]"
            ]
          },
          "metadata": {},
          "execution_count": 58
        }
      ]
    },
    {
      "cell_type": "code",
      "source": [
        "df_mit_mentions = pd.DataFrame(df_mit_mentions,columns=['quoted_status','text', 'lang'])\n",
        "df_mit_mentions.head(20)"
      ],
      "metadata": {
        "colab": {
          "base_uri": "https://localhost:8080/",
          "height": 676
        },
        "id": "Q7gOHIf34BAX",
        "outputId": "34c61b1e-3267-4e2a-9dcb-b468afb38fe2"
      },
      "execution_count": null,
      "outputs": [
        {
          "output_type": "execute_result",
          "data": {
            "text/html": [
              "<div>\n",
              "<style scoped>\n",
              "    .dataframe tbody tr th:only-of-type {\n",
              "        vertical-align: middle;\n",
              "    }\n",
              "\n",
              "    .dataframe tbody tr th {\n",
              "        vertical-align: top;\n",
              "    }\n",
              "\n",
              "    .dataframe thead th {\n",
              "        text-align: right;\n",
              "    }\n",
              "</style>\n",
              "<table border=\"1\" class=\"dataframe\">\n",
              "  <thead>\n",
              "    <tr style=\"text-align: right;\">\n",
              "      <th></th>\n",
              "      <th>quoted_status</th>\n",
              "      <th>text</th>\n",
              "      <th>lang</th>\n",
              "    </tr>\n",
              "  </thead>\n",
              "  <tbody>\n",
              "    <tr>\n",
              "      <th>0</th>\n",
              "      <td>{'created_at': 'Mon Oct 11 10:21:21 +0000 2021...</td>\n",
              "      <td>Our top 21 Tweets of 2021: No. 20 —\\nhttps://t...</td>\n",
              "      <td>en</td>\n",
              "    </tr>\n",
              "    <tr>\n",
              "      <th>1</th>\n",
              "      <td>{'created_at': 'Sun Aug 08 14:05:00 +0000 2021...</td>\n",
              "      <td>Our top 21 Tweets of 2021: No. 21 —\\nhttps://t...</td>\n",
              "      <td>en</td>\n",
              "    </tr>\n",
              "    <tr>\n",
              "      <th>2</th>\n",
              "      <td>NaN</td>\n",
              "      <td>RT @MITPK12: Students today are growing up wit...</td>\n",
              "      <td>en</td>\n",
              "    </tr>\n",
              "    <tr>\n",
              "      <th>3</th>\n",
              "      <td>NaN</td>\n",
              "      <td>Feast or forage? Study finds circuit that help...</td>\n",
              "      <td>en</td>\n",
              "    </tr>\n",
              "    <tr>\n",
              "      <th>4</th>\n",
              "      <td>NaN</td>\n",
              "      <td>Risk of COVID-19 exposure increases with time ...</td>\n",
              "      <td>en</td>\n",
              "    </tr>\n",
              "    <tr>\n",
              "      <th>5</th>\n",
              "      <td>NaN</td>\n",
              "      <td>Forbes contributor Adi Gaskell writes that a n...</td>\n",
              "      <td>en</td>\n",
              "    </tr>\n",
              "    <tr>\n",
              "      <th>6</th>\n",
              "      <td>NaN</td>\n",
              "      <td>Anantha Chandrakasan awarded 2022 IEEE Mildred...</td>\n",
              "      <td>en</td>\n",
              "    </tr>\n",
              "    <tr>\n",
              "      <th>7</th>\n",
              "      <td>NaN</td>\n",
              "      <td>Chemical engineers have created a coating for ...</td>\n",
              "      <td>en</td>\n",
              "    </tr>\n",
              "    <tr>\n",
              "      <th>8</th>\n",
              "      <td>NaN</td>\n",
              "      <td>RT @MITMechE: On Monday night, 8 student teams...</td>\n",
              "      <td>en</td>\n",
              "    </tr>\n",
              "    <tr>\n",
              "      <th>9</th>\n",
              "      <td>NaN</td>\n",
              "      <td>RT @YetMingChiang: Huge congratulations to the...</td>\n",
              "      <td>en</td>\n",
              "    </tr>\n",
              "    <tr>\n",
              "      <th>10</th>\n",
              "      <td>NaN</td>\n",
              "      <td>It snowed a little overnight in Cambridge, MA....</td>\n",
              "      <td>en</td>\n",
              "    </tr>\n",
              "    <tr>\n",
              "      <th>11</th>\n",
              "      <td>NaN</td>\n",
              "      <td>Researchers from MIT and other institutions ha...</td>\n",
              "      <td>en</td>\n",
              "    </tr>\n",
              "    <tr>\n",
              "      <th>12</th>\n",
              "      <td>NaN</td>\n",
              "      <td>Emily Wick PhD '51, the first female professor...</td>\n",
              "      <td>en</td>\n",
              "    </tr>\n",
              "    <tr>\n",
              "      <th>13</th>\n",
              "      <td>NaN</td>\n",
              "      <td>EECS graduate women’s research summit increase...</td>\n",
              "      <td>en</td>\n",
              "    </tr>\n",
              "    <tr>\n",
              "      <th>14</th>\n",
              "      <td>NaN</td>\n",
              "      <td>A new machine-learning system may help doctors...</td>\n",
              "      <td>en</td>\n",
              "    </tr>\n",
              "    <tr>\n",
              "      <th>15</th>\n",
              "      <td>NaN</td>\n",
              "      <td>RT @mitwlax: Congrats to the winners of the 6t...</td>\n",
              "      <td>en</td>\n",
              "    </tr>\n",
              "    <tr>\n",
              "      <th>16</th>\n",
              "      <td>NaN</td>\n",
              "      <td>Rewriting the operating manual: Nikos Trichaki...</td>\n",
              "      <td>en</td>\n",
              "    </tr>\n",
              "    <tr>\n",
              "      <th>17</th>\n",
              "      <td>NaN</td>\n",
              "      <td>RT @mitopenlearning: How can faculty, students...</td>\n",
              "      <td>en</td>\n",
              "    </tr>\n",
              "    <tr>\n",
              "      <th>18</th>\n",
              "      <td>NaN</td>\n",
              "      <td>RT @MIT_CSAIL: Robots that evolve like animals...</td>\n",
              "      <td>en</td>\n",
              "    </tr>\n",
              "    <tr>\n",
              "      <th>19</th>\n",
              "      <td>NaN</td>\n",
              "      <td>RT @MITAeroAstro: We love our #AeroAstro #alum...</td>\n",
              "      <td>en</td>\n",
              "    </tr>\n",
              "  </tbody>\n",
              "</table>\n",
              "</div>"
            ],
            "text/plain": [
              "                                        quoted_status  ... lang\n",
              "0   {'created_at': 'Mon Oct 11 10:21:21 +0000 2021...  ...   en\n",
              "1   {'created_at': 'Sun Aug 08 14:05:00 +0000 2021...  ...   en\n",
              "2                                                 NaN  ...   en\n",
              "3                                                 NaN  ...   en\n",
              "4                                                 NaN  ...   en\n",
              "5                                                 NaN  ...   en\n",
              "6                                                 NaN  ...   en\n",
              "7                                                 NaN  ...   en\n",
              "8                                                 NaN  ...   en\n",
              "9                                                 NaN  ...   en\n",
              "10                                                NaN  ...   en\n",
              "11                                                NaN  ...   en\n",
              "12                                                NaN  ...   en\n",
              "13                                                NaN  ...   en\n",
              "14                                                NaN  ...   en\n",
              "15                                                NaN  ...   en\n",
              "16                                                NaN  ...   en\n",
              "17                                                NaN  ...   en\n",
              "18                                                NaN  ...   en\n",
              "19                                                NaN  ...   en\n",
              "\n",
              "[20 rows x 3 columns]"
            ]
          },
          "metadata": {},
          "execution_count": 59
        }
      ]
    },
    {
      "cell_type": "markdown",
      "source": [
        "## Tweets del home \n",
        "\n",
        "- Obtén de la timeline del home de Twitter, solo los primeros 10 tweets\n",
        "- Añade los tweets a una lista y conviértelos en un DataFrame"
      ],
      "metadata": {
        "id": "7WLzoCiF94Mw"
      }
    },
    {
      "cell_type": "code",
      "source": [
        "#documentacion del endpoint https://developer.twitter.com/en/docs/twitter-api/v1/tweets/timelines/api-reference/get-statuses-home_timeline\n",
        "#home_timeline"
      ],
      "metadata": {
        "id": "eWQUHZyN94qe"
      },
      "execution_count": null,
      "outputs": []
    },
    {
      "cell_type": "code",
      "source": [
        "home_tweets = api.home_timeline()\n",
        "home = []\n",
        "\n",
        "for tweet in home_tweets:\n",
        "\n",
        "  jtewwt = tweet._json\n",
        "  home.append(jtewwt)\n",
        "\n",
        "df_tweet_home = pd.DataFrame(home)\n",
        "\n",
        "df_tweet_home = pd.DataFrame(df_tweet_home, columns=['created_at','text']).head(10)\n",
        "\n",
        "df_tweet_home"
      ],
      "metadata": {
        "id": "e-l1MOxA-Vqa",
        "colab": {
          "base_uri": "https://localhost:8080/",
          "height": 363
        },
        "outputId": "61d1133d-b741-4d90-e5be-8b286404aa1a"
      },
      "execution_count": null,
      "outputs": [
        {
          "output_type": "execute_result",
          "data": {
            "text/html": [
              "<div>\n",
              "<style scoped>\n",
              "    .dataframe tbody tr th:only-of-type {\n",
              "        vertical-align: middle;\n",
              "    }\n",
              "\n",
              "    .dataframe tbody tr th {\n",
              "        vertical-align: top;\n",
              "    }\n",
              "\n",
              "    .dataframe thead th {\n",
              "        text-align: right;\n",
              "    }\n",
              "</style>\n",
              "<table border=\"1\" class=\"dataframe\">\n",
              "  <thead>\n",
              "    <tr style=\"text-align: right;\">\n",
              "      <th></th>\n",
              "      <th>created_at</th>\n",
              "      <th>text</th>\n",
              "    </tr>\n",
              "  </thead>\n",
              "  <tbody>\n",
              "    <tr>\n",
              "      <th>0</th>\n",
              "      <td>Mon Dec 13 03:46:23 +0000 2021</td>\n",
              "      <td>https://t.co/0bzygOpbRP</td>\n",
              "    </tr>\n",
              "    <tr>\n",
              "      <th>1</th>\n",
              "      <td>Mon Dec 13 03:46:13 +0000 2021</td>\n",
              "      <td>RT @iamdoomling: Non fungible toddler 🤷‍♀️ htt...</td>\n",
              "    </tr>\n",
              "    <tr>\n",
              "      <th>2</th>\n",
              "      <td>Mon Dec 13 03:46:07 +0000 2021</td>\n",
              "      <td>¡Gol de @AtlasFC! Ya lo ganan 1 a 0 en el Esta...</td>\n",
              "    </tr>\n",
              "    <tr>\n",
              "      <th>3</th>\n",
              "      <td>Mon Dec 13 03:45:54 +0000 2021</td>\n",
              "      <td>RT @SeGobCDMX: La @SSC_CDMX desplegó alrededor...</td>\n",
              "    </tr>\n",
              "    <tr>\n",
              "      <th>4</th>\n",
              "      <td>Mon Dec 13 03:45:53 +0000 2021</td>\n",
              "      <td>RT @SeGobCDMX: Se trató de acordar la entrada ...</td>\n",
              "    </tr>\n",
              "    <tr>\n",
              "      <th>5</th>\n",
              "      <td>Mon Dec 13 03:45:46 +0000 2021</td>\n",
              "      <td>Venga, ya... Qué ganen... ⚫🔴🦊</td>\n",
              "    </tr>\n",
              "    <tr>\n",
              "      <th>6</th>\n",
              "      <td>Mon Dec 13 03:45:32 +0000 2021</td>\n",
              "      <td>RT @SeGobCDMX: El @GobCDMX informa que, luego ...</td>\n",
              "    </tr>\n",
              "    <tr>\n",
              "      <th>7</th>\n",
              "      <td>Mon Dec 13 03:45:08 +0000 2021</td>\n",
              "      <td>Yo le voy al Atlas desde que compré su libro d...</td>\n",
              "    </tr>\n",
              "    <tr>\n",
              "      <th>8</th>\n",
              "      <td>Mon Dec 13 03:45:00 +0000 2021</td>\n",
              "      <td>#Video En la Amazonía colombiana se talan y qu...</td>\n",
              "    </tr>\n",
              "    <tr>\n",
              "      <th>9</th>\n",
              "      <td>Mon Dec 13 03:44:54 +0000 2021</td>\n",
              "      <td>El VAR está revisando la jugada por posible fu...</td>\n",
              "    </tr>\n",
              "  </tbody>\n",
              "</table>\n",
              "</div>"
            ],
            "text/plain": [
              "                       created_at                                               text\n",
              "0  Mon Dec 13 03:46:23 +0000 2021                            https://t.co/0bzygOpbRP\n",
              "1  Mon Dec 13 03:46:13 +0000 2021  RT @iamdoomling: Non fungible toddler 🤷‍♀️ htt...\n",
              "2  Mon Dec 13 03:46:07 +0000 2021  ¡Gol de @AtlasFC! Ya lo ganan 1 a 0 en el Esta...\n",
              "3  Mon Dec 13 03:45:54 +0000 2021  RT @SeGobCDMX: La @SSC_CDMX desplegó alrededor...\n",
              "4  Mon Dec 13 03:45:53 +0000 2021  RT @SeGobCDMX: Se trató de acordar la entrada ...\n",
              "5  Mon Dec 13 03:45:46 +0000 2021                      Venga, ya... Qué ganen... ⚫🔴🦊\n",
              "6  Mon Dec 13 03:45:32 +0000 2021  RT @SeGobCDMX: El @GobCDMX informa que, luego ...\n",
              "7  Mon Dec 13 03:45:08 +0000 2021  Yo le voy al Atlas desde que compré su libro d...\n",
              "8  Mon Dec 13 03:45:00 +0000 2021  #Video En la Amazonía colombiana se talan y qu...\n",
              "9  Mon Dec 13 03:44:54 +0000 2021  El VAR está revisando la jugada por posible fu..."
            ]
          },
          "metadata": {},
          "execution_count": 64
        }
      ]
    },
    {
      "cell_type": "markdown",
      "source": [
        "## Mentions del timeline \n",
        "\n",
        "- Obtén las 20 menciones mas recientes.\n",
        "- Añade los tweets a una lista y conviértelos en un DataFrame"
      ],
      "metadata": {
        "id": "cuoRxf3U-14g"
      }
    },
    {
      "cell_type": "code",
      "source": [
        "#documentacion del endpoint https://developer.twitter.com/en/docs/twitter-api/v1/tweets/timelines/api-reference/get-statuses-mentions_timeline\n",
        "#mentions_timeline"
      ],
      "metadata": {
        "id": "V01YxoLE-29z"
      },
      "execution_count": null,
      "outputs": []
    },
    {
      "cell_type": "code",
      "source": [
        "search_term = \"#MIT -filter:retweets\"\n",
        "\n",
        "tweets = tw.Cursor(api.search,\n",
        "                   q=search_term,\n",
        "                   lang=\"en\",\n",
        "                   since='2021-01-01').items()\n",
        "\n",
        "all_MIT_tweets_2021 = [tweet.text for tweet in tweets]\n",
        "\n",
        "len(all_MIT_tweets_2021)\n",
        "all_MIT_tweets_2021[:20]"
      ],
      "metadata": {
        "id": "AE5RAEP2_uHX",
        "colab": {
          "base_uri": "https://localhost:8080/",
          "height": 396
        },
        "outputId": "73eddb9c-3b5e-40b0-ea4f-16d1c2efc422"
      },
      "execution_count": null,
      "outputs": [
        {
          "output_type": "error",
          "ename": "TweepError",
          "evalue": "ignored",
          "traceback": [
            "\u001b[0;31m---------------------------------------------------------------------------\u001b[0m",
            "\u001b[0;31mTweepError\u001b[0m                                Traceback (most recent call last)",
            "\u001b[0;32m<ipython-input-73-798d39d99b21>\u001b[0m in \u001b[0;36m<module>\u001b[0;34m()\u001b[0m\n\u001b[1;32m      6\u001b[0m                    since='2021-01-01').items()\n\u001b[1;32m      7\u001b[0m \u001b[0;34m\u001b[0m\u001b[0m\n\u001b[0;32m----> 8\u001b[0;31m \u001b[0mall_MIT_tweets_2021\u001b[0m \u001b[0;34m=\u001b[0m \u001b[0;34m[\u001b[0m\u001b[0mtweet\u001b[0m\u001b[0;34m.\u001b[0m\u001b[0mtext\u001b[0m \u001b[0;32mfor\u001b[0m \u001b[0mtweet\u001b[0m \u001b[0;32min\u001b[0m \u001b[0mtweets\u001b[0m\u001b[0;34m]\u001b[0m\u001b[0;34m\u001b[0m\u001b[0;34m\u001b[0m\u001b[0m\n\u001b[0m\u001b[1;32m      9\u001b[0m \u001b[0;34m\u001b[0m\u001b[0m\n\u001b[1;32m     10\u001b[0m \u001b[0mlen\u001b[0m\u001b[0;34m(\u001b[0m\u001b[0mall_MIT_tweets_2021\u001b[0m\u001b[0;34m)\u001b[0m\u001b[0;34m\u001b[0m\u001b[0;34m\u001b[0m\u001b[0m\n",
            "\u001b[0;32m<ipython-input-73-798d39d99b21>\u001b[0m in \u001b[0;36m<listcomp>\u001b[0;34m(.0)\u001b[0m\n\u001b[1;32m      6\u001b[0m                    since='2021-01-01').items()\n\u001b[1;32m      7\u001b[0m \u001b[0;34m\u001b[0m\u001b[0m\n\u001b[0;32m----> 8\u001b[0;31m \u001b[0mall_MIT_tweets_2021\u001b[0m \u001b[0;34m=\u001b[0m \u001b[0;34m[\u001b[0m\u001b[0mtweet\u001b[0m\u001b[0;34m.\u001b[0m\u001b[0mtext\u001b[0m \u001b[0;32mfor\u001b[0m \u001b[0mtweet\u001b[0m \u001b[0;32min\u001b[0m \u001b[0mtweets\u001b[0m\u001b[0;34m]\u001b[0m\u001b[0;34m\u001b[0m\u001b[0;34m\u001b[0m\u001b[0m\n\u001b[0m\u001b[1;32m      9\u001b[0m \u001b[0;34m\u001b[0m\u001b[0m\n\u001b[1;32m     10\u001b[0m \u001b[0mlen\u001b[0m\u001b[0;34m(\u001b[0m\u001b[0mall_MIT_tweets_2021\u001b[0m\u001b[0;34m)\u001b[0m\u001b[0;34m\u001b[0m\u001b[0;34m\u001b[0m\u001b[0m\n",
            "\u001b[0;32m/usr/local/lib/python3.7/dist-packages/tweepy/cursor.py\u001b[0m in \u001b[0;36m__next__\u001b[0;34m(self)\u001b[0m\n\u001b[1;32m     49\u001b[0m \u001b[0;34m\u001b[0m\u001b[0m\n\u001b[1;32m     50\u001b[0m     \u001b[0;32mdef\u001b[0m \u001b[0m__next__\u001b[0m\u001b[0;34m(\u001b[0m\u001b[0mself\u001b[0m\u001b[0;34m)\u001b[0m\u001b[0;34m:\u001b[0m\u001b[0;34m\u001b[0m\u001b[0;34m\u001b[0m\u001b[0m\n\u001b[0;32m---> 51\u001b[0;31m         \u001b[0;32mreturn\u001b[0m \u001b[0mself\u001b[0m\u001b[0;34m.\u001b[0m\u001b[0mnext\u001b[0m\u001b[0;34m(\u001b[0m\u001b[0;34m)\u001b[0m\u001b[0;34m\u001b[0m\u001b[0;34m\u001b[0m\u001b[0m\n\u001b[0m\u001b[1;32m     52\u001b[0m \u001b[0;34m\u001b[0m\u001b[0m\n\u001b[1;32m     53\u001b[0m     \u001b[0;32mdef\u001b[0m \u001b[0mnext\u001b[0m\u001b[0;34m(\u001b[0m\u001b[0mself\u001b[0m\u001b[0;34m)\u001b[0m\u001b[0;34m:\u001b[0m\u001b[0;34m\u001b[0m\u001b[0;34m\u001b[0m\u001b[0m\n",
            "\u001b[0;32m/usr/local/lib/python3.7/dist-packages/tweepy/cursor.py\u001b[0m in \u001b[0;36mnext\u001b[0;34m(self)\u001b[0m\n\u001b[1;32m    241\u001b[0m         \u001b[0;32mif\u001b[0m \u001b[0mself\u001b[0m\u001b[0;34m.\u001b[0m\u001b[0mcurrent_page\u001b[0m \u001b[0;32mis\u001b[0m \u001b[0;32mNone\u001b[0m \u001b[0;32mor\u001b[0m \u001b[0mself\u001b[0m\u001b[0;34m.\u001b[0m\u001b[0mpage_index\u001b[0m \u001b[0;34m==\u001b[0m \u001b[0mlen\u001b[0m\u001b[0;34m(\u001b[0m\u001b[0mself\u001b[0m\u001b[0;34m.\u001b[0m\u001b[0mcurrent_page\u001b[0m\u001b[0;34m)\u001b[0m \u001b[0;34m-\u001b[0m \u001b[0;36m1\u001b[0m\u001b[0;34m:\u001b[0m\u001b[0;34m\u001b[0m\u001b[0;34m\u001b[0m\u001b[0m\n\u001b[1;32m    242\u001b[0m             \u001b[0;31m# Reached end of current page, get the next page...\u001b[0m\u001b[0;34m\u001b[0m\u001b[0;34m\u001b[0m\u001b[0;34m\u001b[0m\u001b[0m\n\u001b[0;32m--> 243\u001b[0;31m             \u001b[0mself\u001b[0m\u001b[0;34m.\u001b[0m\u001b[0mcurrent_page\u001b[0m \u001b[0;34m=\u001b[0m \u001b[0mself\u001b[0m\u001b[0;34m.\u001b[0m\u001b[0mpage_iterator\u001b[0m\u001b[0;34m.\u001b[0m\u001b[0mnext\u001b[0m\u001b[0;34m(\u001b[0m\u001b[0;34m)\u001b[0m\u001b[0;34m\u001b[0m\u001b[0;34m\u001b[0m\u001b[0m\n\u001b[0m\u001b[1;32m    244\u001b[0m             \u001b[0;32mwhile\u001b[0m \u001b[0mlen\u001b[0m\u001b[0;34m(\u001b[0m\u001b[0mself\u001b[0m\u001b[0;34m.\u001b[0m\u001b[0mcurrent_page\u001b[0m\u001b[0;34m)\u001b[0m \u001b[0;34m==\u001b[0m \u001b[0;36m0\u001b[0m\u001b[0;34m:\u001b[0m\u001b[0;34m\u001b[0m\u001b[0;34m\u001b[0m\u001b[0m\n\u001b[1;32m    245\u001b[0m                 \u001b[0mself\u001b[0m\u001b[0;34m.\u001b[0m\u001b[0mcurrent_page\u001b[0m \u001b[0;34m=\u001b[0m \u001b[0mself\u001b[0m\u001b[0;34m.\u001b[0m\u001b[0mpage_iterator\u001b[0m\u001b[0;34m.\u001b[0m\u001b[0mnext\u001b[0m\u001b[0;34m(\u001b[0m\u001b[0;34m)\u001b[0m\u001b[0;34m\u001b[0m\u001b[0;34m\u001b[0m\u001b[0m\n",
            "\u001b[0;32m/usr/local/lib/python3.7/dist-packages/tweepy/cursor.py\u001b[0m in \u001b[0;36mnext\u001b[0;34m(self)\u001b[0m\n\u001b[1;32m    130\u001b[0m \u001b[0;34m\u001b[0m\u001b[0m\n\u001b[1;32m    131\u001b[0m         \u001b[0;32mif\u001b[0m \u001b[0mself\u001b[0m\u001b[0;34m.\u001b[0m\u001b[0mindex\u001b[0m \u001b[0;34m>=\u001b[0m \u001b[0mlen\u001b[0m\u001b[0;34m(\u001b[0m\u001b[0mself\u001b[0m\u001b[0;34m.\u001b[0m\u001b[0mresults\u001b[0m\u001b[0;34m)\u001b[0m \u001b[0;34m-\u001b[0m \u001b[0;36m1\u001b[0m\u001b[0;34m:\u001b[0m\u001b[0;34m\u001b[0m\u001b[0;34m\u001b[0m\u001b[0m\n\u001b[0;32m--> 132\u001b[0;31m             \u001b[0mdata\u001b[0m \u001b[0;34m=\u001b[0m \u001b[0mself\u001b[0m\u001b[0;34m.\u001b[0m\u001b[0mmethod\u001b[0m\u001b[0;34m(\u001b[0m\u001b[0mmax_id\u001b[0m\u001b[0;34m=\u001b[0m\u001b[0mself\u001b[0m\u001b[0;34m.\u001b[0m\u001b[0mmax_id\u001b[0m\u001b[0;34m,\u001b[0m \u001b[0mparser\u001b[0m\u001b[0;34m=\u001b[0m\u001b[0mRawParser\u001b[0m\u001b[0;34m(\u001b[0m\u001b[0;34m)\u001b[0m\u001b[0;34m,\u001b[0m \u001b[0;34m*\u001b[0m\u001b[0mself\u001b[0m\u001b[0;34m.\u001b[0m\u001b[0margs\u001b[0m\u001b[0;34m,\u001b[0m \u001b[0;34m**\u001b[0m\u001b[0mself\u001b[0m\u001b[0;34m.\u001b[0m\u001b[0mkwargs\u001b[0m\u001b[0;34m)\u001b[0m\u001b[0;34m\u001b[0m\u001b[0;34m\u001b[0m\u001b[0m\n\u001b[0m\u001b[1;32m    133\u001b[0m \u001b[0;34m\u001b[0m\u001b[0m\n\u001b[1;32m    134\u001b[0m             \u001b[0;32mif\u001b[0m \u001b[0mhasattr\u001b[0m\u001b[0;34m(\u001b[0m\u001b[0mself\u001b[0m\u001b[0;34m.\u001b[0m\u001b[0mmethod\u001b[0m\u001b[0;34m,\u001b[0m \u001b[0;34m'__self__'\u001b[0m\u001b[0;34m)\u001b[0m\u001b[0;34m:\u001b[0m\u001b[0;34m\u001b[0m\u001b[0;34m\u001b[0m\u001b[0m\n",
            "\u001b[0;32m/usr/local/lib/python3.7/dist-packages/tweepy/binder.py\u001b[0m in \u001b[0;36m_call\u001b[0;34m(*args, **kwargs)\u001b[0m\n\u001b[1;32m    251\u001b[0m                 \u001b[0;32mreturn\u001b[0m \u001b[0mmethod\u001b[0m\u001b[0;34m\u001b[0m\u001b[0;34m\u001b[0m\u001b[0m\n\u001b[1;32m    252\u001b[0m             \u001b[0;32melse\u001b[0m\u001b[0;34m:\u001b[0m\u001b[0;34m\u001b[0m\u001b[0;34m\u001b[0m\u001b[0m\n\u001b[0;32m--> 253\u001b[0;31m                 \u001b[0;32mreturn\u001b[0m \u001b[0mmethod\u001b[0m\u001b[0;34m.\u001b[0m\u001b[0mexecute\u001b[0m\u001b[0;34m(\u001b[0m\u001b[0;34m)\u001b[0m\u001b[0;34m\u001b[0m\u001b[0;34m\u001b[0m\u001b[0m\n\u001b[0m\u001b[1;32m    254\u001b[0m         \u001b[0;32mfinally\u001b[0m\u001b[0;34m:\u001b[0m\u001b[0;34m\u001b[0m\u001b[0;34m\u001b[0m\u001b[0m\n\u001b[1;32m    255\u001b[0m             \u001b[0mmethod\u001b[0m\u001b[0;34m.\u001b[0m\u001b[0msession\u001b[0m\u001b[0;34m.\u001b[0m\u001b[0mclose\u001b[0m\u001b[0;34m(\u001b[0m\u001b[0;34m)\u001b[0m\u001b[0;34m\u001b[0m\u001b[0;34m\u001b[0m\u001b[0m\n",
            "\u001b[0;32m/usr/local/lib/python3.7/dist-packages/tweepy/binder.py\u001b[0m in \u001b[0;36mexecute\u001b[0;34m(self)\u001b[0m\n\u001b[1;32m    232\u001b[0m                     \u001b[0;32mraise\u001b[0m \u001b[0mRateLimitError\u001b[0m\u001b[0;34m(\u001b[0m\u001b[0merror_msg\u001b[0m\u001b[0;34m,\u001b[0m \u001b[0mresp\u001b[0m\u001b[0;34m)\u001b[0m\u001b[0;34m\u001b[0m\u001b[0;34m\u001b[0m\u001b[0m\n\u001b[1;32m    233\u001b[0m                 \u001b[0;32melse\u001b[0m\u001b[0;34m:\u001b[0m\u001b[0;34m\u001b[0m\u001b[0;34m\u001b[0m\u001b[0m\n\u001b[0;32m--> 234\u001b[0;31m                     \u001b[0;32mraise\u001b[0m \u001b[0mTweepError\u001b[0m\u001b[0;34m(\u001b[0m\u001b[0merror_msg\u001b[0m\u001b[0;34m,\u001b[0m \u001b[0mresp\u001b[0m\u001b[0;34m,\u001b[0m \u001b[0mapi_code\u001b[0m\u001b[0;34m=\u001b[0m\u001b[0mapi_error_code\u001b[0m\u001b[0;34m)\u001b[0m\u001b[0;34m\u001b[0m\u001b[0;34m\u001b[0m\u001b[0m\n\u001b[0m\u001b[1;32m    235\u001b[0m \u001b[0;34m\u001b[0m\u001b[0m\n\u001b[1;32m    236\u001b[0m             \u001b[0;31m# Parse the response payload\u001b[0m\u001b[0;34m\u001b[0m\u001b[0;34m\u001b[0m\u001b[0;34m\u001b[0m\u001b[0m\n",
            "\u001b[0;31mTweepError\u001b[0m: Twitter error response: status code = 429"
          ]
        }
      ]
    },
    {
      "cell_type": "markdown",
      "source": [
        "## Count recent 👀\n",
        "\n",
        "- Obtén el numero de tweets recientes de los ultimos 7 dias\n"
      ],
      "metadata": {
        "id": "geQZ_z6_DF5A"
      }
    },
    {
      "cell_type": "code",
      "source": [
        "#documentacion del endpoint https://developer.twitter.com/en/docs/twitter-api/tweets/counts/api-reference/get-tweets-counts-recent\n",
        "#recent"
      ],
      "metadata": {
        "id": "AL6_eHmUDRWa"
      },
      "execution_count": null,
      "outputs": []
    },
    {
      "cell_type": "code",
      "source": [
        "home_tweets = api.home_timeline()\n",
        "\n",
        "home_tweets"
      ],
      "metadata": {
        "id": "a66mus2FyMUj"
      },
      "execution_count": null,
      "outputs": []
    },
    {
      "cell_type": "code",
      "source": [
        "!curl \"https://api.twitter.com/2/tweets/counts/recent?query=lakers&granularity=day&start_time=2020-05-28T00%3A00%3A00Z&end_time=2020-06-01T00%3A00%3A00Z\" -H \"Authorization: AAAAAAAAAAAAAAAAAAAAALemWwEAAAAAXdna47azebQ3%2BEC0goaqtH1q4yA%3D7gWR06DdwBpLlM58JzbnW2kg4TPSqFNUOlaLe69UjpSbD6cwWS"
      ],
      "metadata": {
        "colab": {
          "base_uri": "https://localhost:8080/"
        },
        "id": "cPFJ0_Rg2ZS4",
        "outputId": "9637f039-ed2d-4d50-dd2f-40cafe08d474"
      },
      "execution_count": null,
      "outputs": [
        {
          "output_type": "stream",
          "name": "stdout",
          "text": [
            "/bin/bash: -c: line 0: unexpected EOF while looking for matching `\"'\n",
            "/bin/bash: -c: line 1: syntax error: unexpected end of file\n"
          ]
        }
      ]
    },
    {
      "cell_type": "code",
      "source": [
        "Client.get_all_tweets_count"
      ],
      "metadata": {
        "id": "BFpYcKgqunOs"
      },
      "execution_count": null,
      "outputs": []
    }
  ]
}